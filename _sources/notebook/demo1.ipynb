{
 "cells": [
  {
   "cell_type": "markdown",
   "metadata": {},
   "source": [
    "# DEMO"
   ]
  },
  {
   "cell_type": "markdown",
   "metadata": {},
   "source": [
    "<iframe scr=\"https://blog.echen.me/embedding-explorer/#/\" width=\"100%\" height=\"700px;\" style=\"border:none;\"></iframe>"
   ]
  },
  {
   "cell_type": "code",
   "execution_count": 9,
   "metadata": {},
   "outputs": [
    {
     "data": {
      "text/html": [
       "\n",
       "<p style=\"text-align: center;\">\n",
       "<iframe src=\"../notebook-html/word-embedding-demo/demo.html\" style=\"border:none;\" scrolling=\"auto\"></iframe>\n",
       "A demo of visualization.   <a href=\"../notebook-html/word-embedding-demo/demo.html\"> [source]</a></p>\n"
      ],
      "text/plain": [
       "<IPython.core.display.HTML object>"
      ]
     },
     "metadata": {},
     "output_type": "display_data"
    }
   ],
   "source": [
    "from IPython.display import HTML\n",
    "display(HTML(\"\"\"\n",
    "<p style=\"text-align: center;\">\n",
    "<iframe src=\"../notebook-html/word-embedding-demo/demo.html\" style=\"border:none;\" scrolling=\"auto\"></iframe>\n",
    "A demo of visualization.   <a href=\"../notebook-html/word-embedding-demo/demo.html\"> [source]</a></p>\n",
    "\"\"\"))"
   ]
  }
 ],
 "metadata": {
  "kernelspec": {
   "display_name": "pytorch",
   "language": "python",
   "name": "python3"
  },
  "language_info": {
   "codemirror_mode": {
    "name": "ipython",
    "version": 3
   },
   "file_extension": ".py",
   "mimetype": "text/x-python",
   "name": "python",
   "nbconvert_exporter": "python",
   "pygments_lexer": "ipython3",
   "version": "3.9.17"
  }
 },
 "nbformat": 4,
 "nbformat_minor": 2
}
