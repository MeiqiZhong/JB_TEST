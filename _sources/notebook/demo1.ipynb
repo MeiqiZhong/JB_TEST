{
 "cells": [
  {
   "cell_type": "markdown",
   "metadata": {},
   "source": [
    "<iframe scr=\"notebook-html\\word-embedding\\word-embedding.html\" width=\"100%\" height=\"700px;\" style=\"border:none;\"></iframe>"
   ]
  },
  {
   "cell_type": "markdown",
   "metadata": {},
   "source": [
    "<iframe scr=\"notebook-html\\word-embedding-demo\\demo.html\" width=\"100%\" height=\"700px;\" style=\"border:none;\"></iframe>"
   ]
  }
 ],
 "metadata": {
  "language_info": {
   "name": "python"
  }
 },
 "nbformat": 4,
 "nbformat_minor": 2
}
